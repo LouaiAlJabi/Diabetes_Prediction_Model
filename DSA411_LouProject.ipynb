{
 "cells": [
  {
   "cell_type": "markdown",
   "id": "fb4f3d6a",
   "metadata": {},
   "source": [
    "* **Louai Al Jabi**\n",
    "* **DSA411**\n",
    "* **Final Project**\n",
    "\n",
    "\n",
    "(Revised 12/09/2023)"
   ]
  },
  {
   "cell_type": "code",
   "execution_count": 1,
   "id": "965a4887",
   "metadata": {},
   "outputs": [],
   "source": [
    "import pandas as pd\n",
    "import numpy as np\n",
    "\n",
    "from sklearn.model_selection import train_test_split\n",
    "from sklearn.preprocessing import OneHotEncoder\n",
    "from sklearn.preprocessing import StandardScaler\n",
    "from sklearn.compose import make_column_transformer\n",
    "\n",
    "from sklearn.pipeline import Pipeline, make_pipeline\n",
    "from sklearn.model_selection import GridSearchCV\n",
    "from sklearn.model_selection import cross_val_score\n",
    "from sklearn.model_selection import StratifiedKFold\n",
    "\n",
    "from sklearn.linear_model import LogisticRegression\n",
    "from sklearn.neighbors import KNeighborsClassifier\n",
    "from sklearn.svm import SVC"
   ]
  },
  {
   "cell_type": "markdown",
   "id": "a91c54bb",
   "metadata": {},
   "source": [
    "### Answering Q1-Can I build a model that predicts the likelyhood a person would develop diabetes"
   ]
  },
  {
   "cell_type": "markdown",
   "id": "f00a4e65",
   "metadata": {},
   "source": [
    "#### Read the Data"
   ]
  },
  {
   "cell_type": "code",
   "execution_count": 2,
   "id": "f89d148c",
   "metadata": {},
   "outputs": [],
   "source": [
    "diabetes = pd.read_csv('Diabetes.csv')"
   ]
  },
  {
   "cell_type": "code",
   "execution_count": 3,
   "id": "3c5ab2ba",
   "metadata": {},
   "outputs": [
    {
     "name": "stdout",
     "output_type": "stream",
     "text": [
      "<class 'pandas.core.frame.DataFrame'>\n",
      "RangeIndex: 529 entries, 0 to 528\n",
      "Data columns (total 20 columns):\n",
      " #   Column            Non-Null Count  Dtype  \n",
      "---  ------            --------------  -----  \n",
      " 0   Unnamed: 0.1      529 non-null    int64  \n",
      " 1   Unnamed: 0        529 non-null    int64  \n",
      " 2   Age               529 non-null    object \n",
      " 3   Gender            529 non-null    object \n",
      " 4   Family_Diabetes   529 non-null    object \n",
      " 5   highBP            529 non-null    object \n",
      " 6   PhysicallyActive  529 non-null    object \n",
      " 7   BMI               529 non-null    float64\n",
      " 8   Smoking           529 non-null    object \n",
      " 9   Alcohol           529 non-null    object \n",
      " 10  Sleep             529 non-null    int64  \n",
      " 11  SoundSleep        529 non-null    int64  \n",
      " 12  RegularMedicine   529 non-null    object \n",
      " 13  JunkFood          529 non-null    object \n",
      " 14  Stress            529 non-null    object \n",
      " 15  BPLevel           529 non-null    object \n",
      " 16  Pregnancies       529 non-null    float64\n",
      " 17  Pdiabetes         529 non-null    object \n",
      " 18  UrinationFreq     529 non-null    object \n",
      " 19  Diabetic          529 non-null    object \n",
      "dtypes: float64(2), int64(4), object(14)\n",
      "memory usage: 82.8+ KB\n"
     ]
    }
   ],
   "source": [
    "diabetes.info()"
   ]
  },
  {
   "cell_type": "code",
   "execution_count": 4,
   "id": "e20b216d",
   "metadata": {
    "scrolled": true
   },
   "outputs": [
    {
     "data": {
      "text/html": [
       "<div>\n",
       "<style scoped>\n",
       "    .dataframe tbody tr th:only-of-type {\n",
       "        vertical-align: middle;\n",
       "    }\n",
       "\n",
       "    .dataframe tbody tr th {\n",
       "        vertical-align: top;\n",
       "    }\n",
       "\n",
       "    .dataframe thead th {\n",
       "        text-align: right;\n",
       "    }\n",
       "</style>\n",
       "<table border=\"1\" class=\"dataframe\">\n",
       "  <thead>\n",
       "    <tr style=\"text-align: right;\">\n",
       "      <th></th>\n",
       "      <th>Age</th>\n",
       "      <th>Gender</th>\n",
       "      <th>Family_Diabetes</th>\n",
       "      <th>highBP</th>\n",
       "      <th>PhysicallyActive</th>\n",
       "      <th>Smoking</th>\n",
       "      <th>Alcohol</th>\n",
       "      <th>RegularMedicine</th>\n",
       "      <th>JunkFood</th>\n",
       "      <th>Stress</th>\n",
       "      <th>BPLevel</th>\n",
       "      <th>Pdiabetes</th>\n",
       "      <th>UrinationFreq</th>\n",
       "      <th>Diabetic</th>\n",
       "    </tr>\n",
       "  </thead>\n",
       "  <tbody>\n",
       "    <tr>\n",
       "      <th>count</th>\n",
       "      <td>529</td>\n",
       "      <td>529</td>\n",
       "      <td>529</td>\n",
       "      <td>529</td>\n",
       "      <td>529</td>\n",
       "      <td>529</td>\n",
       "      <td>529</td>\n",
       "      <td>529</td>\n",
       "      <td>529</td>\n",
       "      <td>529</td>\n",
       "      <td>529</td>\n",
       "      <td>529</td>\n",
       "      <td>529</td>\n",
       "      <td>529</td>\n",
       "    </tr>\n",
       "    <tr>\n",
       "      <th>unique</th>\n",
       "      <td>4</td>\n",
       "      <td>2</td>\n",
       "      <td>2</td>\n",
       "      <td>2</td>\n",
       "      <td>4</td>\n",
       "      <td>2</td>\n",
       "      <td>2</td>\n",
       "      <td>2</td>\n",
       "      <td>4</td>\n",
       "      <td>4</td>\n",
       "      <td>5</td>\n",
       "      <td>2</td>\n",
       "      <td>2</td>\n",
       "      <td>2</td>\n",
       "    </tr>\n",
       "    <tr>\n",
       "      <th>top</th>\n",
       "      <td>less than 40</td>\n",
       "      <td>Male</td>\n",
       "      <td>yes</td>\n",
       "      <td>no</td>\n",
       "      <td>less than half an hr</td>\n",
       "      <td>no</td>\n",
       "      <td>no</td>\n",
       "      <td>no</td>\n",
       "      <td>occasionally</td>\n",
       "      <td>sometimes</td>\n",
       "      <td>normal</td>\n",
       "      <td>no</td>\n",
       "      <td>not much</td>\n",
       "      <td>no</td>\n",
       "    </tr>\n",
       "    <tr>\n",
       "      <th>freq</th>\n",
       "      <td>209</td>\n",
       "      <td>319</td>\n",
       "      <td>275</td>\n",
       "      <td>363</td>\n",
       "      <td>174</td>\n",
       "      <td>474</td>\n",
       "      <td>426</td>\n",
       "      <td>272</td>\n",
       "      <td>374</td>\n",
       "      <td>282</td>\n",
       "      <td>351</td>\n",
       "      <td>516</td>\n",
       "      <td>372</td>\n",
       "      <td>265</td>\n",
       "    </tr>\n",
       "  </tbody>\n",
       "</table>\n",
       "</div>"
      ],
      "text/plain": [
       "                 Age Gender Family_Diabetes highBP      PhysicallyActive  \\\n",
       "count            529    529             529    529                   529   \n",
       "unique             4      2               2      2                     4   \n",
       "top     less than 40   Male             yes     no  less than half an hr   \n",
       "freq             209    319             275    363                   174   \n",
       "\n",
       "       Smoking Alcohol RegularMedicine      JunkFood     Stress BPLevel  \\\n",
       "count      529     529             529           529        529     529   \n",
       "unique       2       2               2             4          4       5   \n",
       "top         no      no              no  occasionally  sometimes  normal   \n",
       "freq       474     426             272           374        282     351   \n",
       "\n",
       "       Pdiabetes UrinationFreq Diabetic  \n",
       "count        529           529      529  \n",
       "unique         2             2        2  \n",
       "top           no      not much       no  \n",
       "freq         516           372      265  "
      ]
     },
     "execution_count": 4,
     "metadata": {},
     "output_type": "execute_result"
    }
   ],
   "source": [
    "diabetes.describe(include = ['object'])"
   ]
  },
  {
   "cell_type": "code",
   "execution_count": 5,
   "id": "59f975f7",
   "metadata": {},
   "outputs": [
    {
     "data": {
      "image/png": "[encoded data removed]",
      "text/plain": [
       "<Figure size 640x480 with 1 Axes>"
      ]
     },
     "metadata": {},
     "output_type": "display_data"
    }
   ],
   "source": [
    "diabetes['BMI'].plot(kind = 'hist');"
   ]
  },
  {
   "cell_type": "code",
   "execution_count": 6,
   "id": "8442c88b",
   "metadata": {},
   "outputs": [
    {
     "data": {
      "image/png": "[encoded data removed]",
      "text/plain": [
       "<Figure size 640x480 with 1 Axes>"
      ]
     },
     "metadata": {},
     "output_type": "display_data"
    }
   ],
   "source": [
    "diabetes['Sleep'].plot(kind = 'hist');"
   ]
  },
  {
   "cell_type": "code",
   "execution_count": 7,
   "id": "e59215de",
   "metadata": {},
   "outputs": [
    {
     "data": {
      "image/png": "[encoded data removed]",
      "text/plain": [
       "<Figure size 640x480 with 1 Axes>"
      ]
     },
     "metadata": {},
     "output_type": "display_data"
    }
   ],
   "source": [
    "diabetes['SoundSleep'].plot(kind = 'hist');"
   ]
  },
  {
   "cell_type": "code",
   "execution_count": 8,
   "id": "e00cef8b",
   "metadata": {},
   "outputs": [
    {
     "data": {
      "image/png": "[encoded data removed]",
      "text/plain": [
       "<Figure size 640x480 with 1 Axes>"
      ]
     },
     "metadata": {},
     "output_type": "display_data"
    }
   ],
   "source": [
    "diabetes['Pregnancies'].plot(kind = 'hist');"
   ]
  },
  {
   "cell_type": "code",
   "execution_count": 9,
   "id": "b25b9688",
   "metadata": {
    "scrolled": true
   },
   "outputs": [
    {
     "data": {
      "text/plain": [
       "no     265\n",
       "yes    264\n",
       "Name: Diabetic, dtype: int64"
      ]
     },
     "execution_count": 9,
     "metadata": {},
     "output_type": "execute_result"
    }
   ],
   "source": [
    "diabetes['Diabetic'].value_counts()"
   ]
  },
  {
   "cell_type": "markdown",
   "id": "3595af4e",
   "metadata": {},
   "source": [
    "### Divide data into features and target"
   ]
  },
  {
   "cell_type": "code",
   "execution_count": 10,
   "id": "122b994e",
   "metadata": {},
   "outputs": [],
   "source": [
    "# get all columns apart from Diabetic for the features\n",
    "features = diabetes.drop('Diabetic', axis=1)\n",
    "\n",
    "# split dataframe into train and test. Use smaller test portion since small dataset\n",
    "X_train, X_test, y_train, y_test = train_test_split(\n",
    "    features, diabetes['Diabetic'], random_state=7, \n",
    "    stratify = diabetes['Diabetic'],\n",
    "    test_size = 0.20)"
   ]
  },
  {
   "cell_type": "code",
   "execution_count": 11,
   "id": "f8d7b2ea",
   "metadata": {},
   "outputs": [
    {
     "data": {
      "text/plain": [
       "(423, 19)"
      ]
     },
     "execution_count": 11,
     "metadata": {},
     "output_type": "execute_result"
    }
   ],
   "source": [
    "X_train.shape"
   ]
  },
  {
   "cell_type": "code",
   "execution_count": 12,
   "id": "7e122908",
   "metadata": {},
   "outputs": [
    {
     "data": {
      "text/plain": [
       "(423,)"
      ]
     },
     "execution_count": 12,
     "metadata": {},
     "output_type": "execute_result"
    }
   ],
   "source": [
    "y_train.shape"
   ]
  },
  {
   "cell_type": "code",
   "execution_count": 13,
   "id": "b2857fdc",
   "metadata": {},
   "outputs": [
    {
     "data": {
      "text/plain": [
       "(106, 19)"
      ]
     },
     "execution_count": 13,
     "metadata": {},
     "output_type": "execute_result"
    }
   ],
   "source": [
    "X_test.shape"
   ]
  },
  {
   "cell_type": "code",
   "execution_count": 14,
   "id": "4f51b61a",
   "metadata": {
    "scrolled": true
   },
   "outputs": [
    {
     "data": {
      "text/plain": [
       "(106,)"
      ]
     },
     "execution_count": 14,
     "metadata": {},
     "output_type": "execute_result"
    }
   ],
   "source": [
    "y_test.shape"
   ]
  },
  {
   "cell_type": "markdown",
   "id": "71d38faf",
   "metadata": {},
   "source": [
    "#### Use comprehensions to get lists of column names"
   ]
  },
  {
   "cell_type": "code",
   "execution_count": 15,
   "id": "4dacc18a",
   "metadata": {},
   "outputs": [
    {
     "data": {
      "text/plain": [
       "['Age',\n",
       " 'Gender',\n",
       " 'Family_Diabetes',\n",
       " 'highBP',\n",
       " 'PhysicallyActive',\n",
       " 'Smoking',\n",
       " 'Alcohol',\n",
       " 'RegularMedicine',\n",
       " 'JunkFood',\n",
       " 'Stress',\n",
       " 'BPLevel',\n",
       " 'Pdiabetes',\n",
       " 'UrinationFreq',\n",
       " 'Diabetic']"
      ]
     },
     "execution_count": 15,
     "metadata": {},
     "output_type": "execute_result"
    }
   ],
   "source": [
    "[col for col in diabetes.dtypes.index if diabetes[col].dtype == 'object']"
   ]
  },
  {
   "cell_type": "code",
   "execution_count": 16,
   "id": "cb5dea02",
   "metadata": {},
   "outputs": [
    {
     "data": {
      "text/plain": [
       "['Unnamed: 0.1', 'Unnamed: 0', 'BMI', 'Sleep', 'SoundSleep', 'Pregnancies']"
      ]
     },
     "execution_count": 16,
     "metadata": {},
     "output_type": "execute_result"
    }
   ],
   "source": [
    "[col for col in diabetes.dtypes.index if diabetes[col].dtype in ['float64', 'int64']]"
   ]
  },
  {
   "cell_type": "markdown",
   "id": "81335227",
   "metadata": {},
   "source": [
    "### Set up analysis pipeline\n",
    "* Using classification to predict a class output with logistic regression and SVC\n",
    "* Apply a StandardScaler to the numerical values, and OneHotEncoder to the catagorical values."
   ]
  },
  {
   "cell_type": "code",
   "execution_count": 17,
   "id": "0e5fefe3",
   "metadata": {},
   "outputs": [],
   "source": [
    "# Column transformer, StandardScaler, OneHotEncoder\n",
    "ct_std_ohe = make_column_transformer(\n",
    "    (StandardScaler(), ['BMI', 'Sleep', 'SoundSleep', 'Pregnancies']),\n",
    "    \n",
    "    (OneHotEncoder(handle_unknown = 'ignore'), \n",
    "     ['Age', 'Gender', 'Family_Diabetes', 'highBP', 'PhysicallyActive',\n",
    "      'Smoking', 'Alcohol', 'RegularMedicine', 'JunkFood', 'Stress',\n",
    "      'BPLevel', 'Pdiabetes', 'UrinationFreq']))\n"
   ]
  },
  {
   "cell_type": "markdown",
   "id": "16631959",
   "metadata": {},
   "source": [
    "#### Next, set up pipeline\n",
    "* Use LogisticRegression as placeholder for the column transformer and estimator function"
   ]
  },
  {
   "cell_type": "code",
   "execution_count": 18,
   "id": "25ba2926",
   "metadata": {},
   "outputs": [],
   "source": [
    "pipe = Pipeline([('preprocessing', ct_std_ohe),\n",
    "                  ('classifier', LogisticRegression(max_iter = 1000))]) #Place Holder"
   ]
  },
  {
   "cell_type": "code",
   "execution_count": 19,
   "id": "8a704514",
   "metadata": {},
   "outputs": [],
   "source": [
    "# Set param grid for GridSearch\n",
    "param_grid = [\n",
    "    {'preprocessing': [ct_std_ohe],\n",
    "     'classifier__C': np.logspace(-5, 4, 10)}, # logistic regression, C\n",
    "    \n",
    "    {'classifier':[SVC(probability=True)],\n",
    "     'preprocessing': [ct_std_ohe],\n",
    "     'classifier__C': [0.001,0.01,0.1,1,5,10,100],\n",
    "     'classifier__gamma':[0.5,1,2,3,4],\n",
    "     'classifier__kernel':['linear','poly', 'rbf']}, # SVC    \n",
    "    ]"
   ]
  },
  {
   "cell_type": "markdown",
   "id": "83d245a7",
   "metadata": {},
   "source": [
    "* Now, Gridsearch and get best score and parameters"
   ]
  },
  {
   "cell_type": "code",
   "execution_count": 53,
   "id": "a4427328",
   "metadata": {},
   "outputs": [],
   "source": [
    "strat_kfold = StratifiedKFold(5, shuffle = True) #stratified because I have a small dataset\n",
    "gs = GridSearchCV(pipe, param_grid, cv = strat_kfold, refit = True, scoring = 'roc_auc', verbose = 1)"
   ]
  },
  {
   "cell_type": "code",
   "execution_count": 54,
   "id": "d0ce4bdc",
   "metadata": {
    "scrolled": true
   },
   "outputs": [
    {
     "name": "stdout",
     "output_type": "stream",
     "text": [
      "Fitting 5 folds for each of 115 candidates, totalling 575 fits\n"
     ]
    },
    {
     "data": {
      "text/html": [
       "<style>#sk-container-id-2 {color: black;background-color: white;}#sk-container-id-2 pre{padding: 0;}#sk-container-id-2 div.sk-toggleable {background-color: white;}#sk-container-id-2 label.sk-toggleable__label {cursor: pointer;display: block;width: 100%;margin-bottom: 0;padding: 0.3em;box-sizing: border-box;text-align: center;}#sk-container-id-2 label.sk-toggleable__label-arrow:before {content: \"▸\";float: left;margin-right: 0.25em;color: #696969;}#sk-container-id-2 label.sk-toggleable__label-arrow:hover:before {color: black;}#sk-container-id-2 div.sk-estimator:hover label.sk-toggleable__label-arrow:before {color: black;}#sk-container-id-2 div.sk-toggleable__content {max-height: 0;max-width: 0;overflow: hidden;text-align: left;background-color: #f0f8ff;}#sk-container-id-2 div.sk-toggleable__content pre {margin: 0.2em;color: black;border-radius: 0.25em;background-color: #f0f8ff;}#sk-container-id-2 input.sk-toggleable__control:checked~div.sk-toggleable__content {max-height: 200px;max-width: 100%;overflow: auto;}#sk-container-id-2 input.sk-toggleable__control:checked~label.sk-toggleable__label-arrow:before {content: \"▾\";}#sk-container-id-2 div.sk-estimator input.sk-toggleable__control:checked~label.sk-toggleable__label {background-color: #d4ebff;}#sk-container-id-2 div.sk-label input.sk-toggleable__control:checked~label.sk-toggleable__label {background-color: #d4ebff;}#sk-container-id-2 input.sk-hidden--visually {border: 0;clip: rect(1px 1px 1px 1px);clip: rect(1px, 1px, 1px, 1px);height: 1px;margin: -1px;overflow: hidden;padding: 0;position: absolute;width: 1px;}#sk-container-id-2 div.sk-estimator {font-family: monospace;background-color: #f0f8ff;border: 1px dotted black;border-radius: 0.25em;box-sizing: border-box;margin-bottom: 0.5em;}#sk-container-id-2 div.sk-estimator:hover {background-color: #d4ebff;}#sk-container-id-2 div.sk-parallel-item::after {content: \"\";width: 100%;border-bottom: 1px solid gray;flex-grow: 1;}#sk-container-id-2 div.sk-label:hover label.sk-toggleable__label {background-color: #d4ebff;}#sk-container-id-2 div.sk-serial::before {content: \"\";position: absolute;border-left: 1px solid gray;box-sizing: border-box;top: 0;bottom: 0;left: 50%;z-index: 0;}#sk-container-id-2 div.sk-serial {display: flex;flex-direction: column;align-items: center;background-color: white;padding-right: 0.2em;padding-left: 0.2em;position: relative;}#sk-container-id-2 div.sk-item {position: relative;z-index: 1;}#sk-container-id-2 div.sk-parallel {display: flex;align-items: stretch;justify-content: center;background-color: white;position: relative;}#sk-container-id-2 div.sk-item::before, #sk-container-id-2 div.sk-parallel-item::before {content: \"\";position: absolute;border-left: 1px solid gray;box-sizing: border-box;top: 0;bottom: 0;left: 50%;z-index: -1;}#sk-container-id-2 div.sk-parallel-item {display: flex;flex-direction: column;z-index: 1;position: relative;background-color: white;}#sk-container-id-2 div.sk-parallel-item:first-child::after {align-self: flex-end;width: 50%;}#sk-container-id-2 div.sk-parallel-item:last-child::after {align-self: flex-start;width: 50%;}#sk-container-id-2 div.sk-parallel-item:only-child::after {width: 0;}#sk-container-id-2 div.sk-dashed-wrapped {border: 1px dashed gray;margin: 0 0.4em 0.5em 0.4em;box-sizing: border-box;padding-bottom: 0.4em;background-color: white;}#sk-container-id-2 div.sk-label label {font-family: monospace;font-weight: bold;display: inline-block;line-height: 1.2em;}#sk-container-id-2 div.sk-label-container {text-align: center;}#sk-container-id-2 div.sk-container {/* jupyter's `normalize.less` sets `[hidden] { display: none; }` but bootstrap.min.css set `[hidden] { display: none !important; }` so we also need the `!important` here to be able to override the default hidden behavior on the sphinx rendered scikit-learn.org. See: https://github.com/scikit-learn/scikit-learn/issues/21755 */display: inline-block !important;position: relative;}#sk-container-id-2 div.sk-text-repr-fallback {display: none;}</style><div id=\"sk-container-id-2\" class=\"sk-top-container\"><div class=\"sk-text-repr-fallback\"><pre>GridSearchCV(cv=StratifiedKFold(n_splits=5, random_state=None, shuffle=True),\n",
       "             estimator=Pipeline(steps=[(&#x27;preprocessing&#x27;,\n",
       "                                        ColumnTransformer(transformers=[(&#x27;standardscaler&#x27;,\n",
       "                                                                         StandardScaler(),\n",
       "                                                                         [&#x27;BMI&#x27;,\n",
       "                                                                          &#x27;Sleep&#x27;,\n",
       "                                                                          &#x27;SoundSleep&#x27;,\n",
       "                                                                          &#x27;Pregnancies&#x27;]),\n",
       "                                                                        (&#x27;onehotencoder&#x27;,\n",
       "                                                                         OneHotEncoder(handle_unknown=&#x27;ignore&#x27;),\n",
       "                                                                         [&#x27;Age&#x27;,\n",
       "                                                                          &#x27;Gender&#x27;,\n",
       "                                                                          &#x27;Family_Diabetes&#x27;,\n",
       "                                                                          &#x27;highBP&#x27;,\n",
       "                                                                          &#x27;PhysicallyActive&#x27;,\n",
       "                                                                          &#x27;Sm...\n",
       "                          &#x27;preprocessing&#x27;: [ColumnTransformer(transformers=[(&#x27;standardscaler&#x27;,\n",
       "                                                                             StandardScaler(),\n",
       "                                                                             [&#x27;BMI&#x27;,\n",
       "                                                                              &#x27;Sleep&#x27;,\n",
       "                                                                              &#x27;SoundSleep&#x27;,\n",
       "                                                                              &#x27;Pregnancies&#x27;]),\n",
       "                                                                            (&#x27;onehotencoder&#x27;,\n",
       "                                                                             OneHotEncoder(handle_unknown=&#x27;ignore&#x27;),\n",
       "                                                                             [&#x27;Age&#x27;,\n",
       "                                                                              &#x27;Gender&#x27;,\n",
       "                                                                              &#x27;Family_Diabetes&#x27;,\n",
       "                                                                              &#x27;highBP&#x27;,\n",
       "                                                                              &#x27;PhysicallyActive&#x27;,\n",
       "                                                                              &#x27;Smoking&#x27;,\n",
       "                                                                              &#x27;Alcohol&#x27;,\n",
       "                                                                              &#x27;RegularMedicine&#x27;,\n",
       "                                                                              &#x27;JunkFood&#x27;,\n",
       "                                                                              &#x27;Stress&#x27;,\n",
       "                                                                              &#x27;BPLevel&#x27;,\n",
       "                                                                              &#x27;Pdiabetes&#x27;,\n",
       "                                                                              &#x27;UrinationFreq&#x27;])])]}],\n",
       "             scoring=&#x27;roc_auc&#x27;, verbose=1)</pre><b>In a Jupyter environment, please rerun this cell to show the HTML representation or trust the notebook. <br />On GitHub, the HTML representation is unable to render, please try loading this page with nbviewer.org.</b></div><div class=\"sk-container\" hidden><div class=\"sk-item sk-dashed-wrapped\"><div class=\"sk-label-container\"><div class=\"sk-label sk-toggleable\"><input class=\"sk-toggleable__control sk-hidden--visually\" id=\"sk-estimator-id-9\" type=\"checkbox\" ><label for=\"sk-estimator-id-9\" class=\"sk-toggleable__label sk-toggleable__label-arrow\">GridSearchCV</label><div class=\"sk-toggleable__content\"><pre>GridSearchCV(cv=StratifiedKFold(n_splits=5, random_state=None, shuffle=True),\n",
       "             estimator=Pipeline(steps=[(&#x27;preprocessing&#x27;,\n",
       "                                        ColumnTransformer(transformers=[(&#x27;standardscaler&#x27;,\n",
       "                                                                         StandardScaler(),\n",
       "                                                                         [&#x27;BMI&#x27;,\n",
       "                                                                          &#x27;Sleep&#x27;,\n",
       "                                                                          &#x27;SoundSleep&#x27;,\n",
       "                                                                          &#x27;Pregnancies&#x27;]),\n",
       "                                                                        (&#x27;onehotencoder&#x27;,\n",
       "                                                                         OneHotEncoder(handle_unknown=&#x27;ignore&#x27;),\n",
       "                                                                         [&#x27;Age&#x27;,\n",
       "                                                                          &#x27;Gender&#x27;,\n",
       "                                                                          &#x27;Family_Diabetes&#x27;,\n",
       "                                                                          &#x27;highBP&#x27;,\n",
       "                                                                          &#x27;PhysicallyActive&#x27;,\n",
       "                                                                          &#x27;Sm...\n",
       "                          &#x27;preprocessing&#x27;: [ColumnTransformer(transformers=[(&#x27;standardscaler&#x27;,\n",
       "                                                                             StandardScaler(),\n",
       "                                                                             [&#x27;BMI&#x27;,\n",
       "                                                                              &#x27;Sleep&#x27;,\n",
       "                                                                              &#x27;SoundSleep&#x27;,\n",
       "                                                                              &#x27;Pregnancies&#x27;]),\n",
       "                                                                            (&#x27;onehotencoder&#x27;,\n",
       "                                                                             OneHotEncoder(handle_unknown=&#x27;ignore&#x27;),\n",
       "                                                                             [&#x27;Age&#x27;,\n",
       "                                                                              &#x27;Gender&#x27;,\n",
       "                                                                              &#x27;Family_Diabetes&#x27;,\n",
       "                                                                              &#x27;highBP&#x27;,\n",
       "                                                                              &#x27;PhysicallyActive&#x27;,\n",
       "                                                                              &#x27;Smoking&#x27;,\n",
       "                                                                              &#x27;Alcohol&#x27;,\n",
       "                                                                              &#x27;RegularMedicine&#x27;,\n",
       "                                                                              &#x27;JunkFood&#x27;,\n",
       "                                                                              &#x27;Stress&#x27;,\n",
       "                                                                              &#x27;BPLevel&#x27;,\n",
       "                                                                              &#x27;Pdiabetes&#x27;,\n",
       "                                                                              &#x27;UrinationFreq&#x27;])])]}],\n",
       "             scoring=&#x27;roc_auc&#x27;, verbose=1)</pre></div></div></div><div class=\"sk-parallel\"><div class=\"sk-parallel-item\"><div class=\"sk-item\"><div class=\"sk-label-container\"><div class=\"sk-label sk-toggleable\"><input class=\"sk-toggleable__control sk-hidden--visually\" id=\"sk-estimator-id-10\" type=\"checkbox\" ><label for=\"sk-estimator-id-10\" class=\"sk-toggleable__label sk-toggleable__label-arrow\">estimator: Pipeline</label><div class=\"sk-toggleable__content\"><pre>Pipeline(steps=[(&#x27;preprocessing&#x27;,\n",
       "                 ColumnTransformer(transformers=[(&#x27;standardscaler&#x27;,\n",
       "                                                  StandardScaler(),\n",
       "                                                  [&#x27;BMI&#x27;, &#x27;Sleep&#x27;, &#x27;SoundSleep&#x27;,\n",
       "                                                   &#x27;Pregnancies&#x27;]),\n",
       "                                                 (&#x27;onehotencoder&#x27;,\n",
       "                                                  OneHotEncoder(handle_unknown=&#x27;ignore&#x27;),\n",
       "                                                  [&#x27;Age&#x27;, &#x27;Gender&#x27;,\n",
       "                                                   &#x27;Family_Diabetes&#x27;, &#x27;highBP&#x27;,\n",
       "                                                   &#x27;PhysicallyActive&#x27;,\n",
       "                                                   &#x27;Smoking&#x27;, &#x27;Alcohol&#x27;,\n",
       "                                                   &#x27;RegularMedicine&#x27;,\n",
       "                                                   &#x27;JunkFood&#x27;, &#x27;Stress&#x27;,\n",
       "                                                   &#x27;BPLevel&#x27;, &#x27;Pdiabetes&#x27;,\n",
       "                                                   &#x27;UrinationFreq&#x27;])])),\n",
       "                (&#x27;classifier&#x27;, LogisticRegression(max_iter=1000))])</pre></div></div></div><div class=\"sk-serial\"><div class=\"sk-item\"><div class=\"sk-serial\"><div class=\"sk-item sk-dashed-wrapped\"><div class=\"sk-label-container\"><div class=\"sk-label sk-toggleable\"><input class=\"sk-toggleable__control sk-hidden--visually\" id=\"sk-estimator-id-11\" type=\"checkbox\" ><label for=\"sk-estimator-id-11\" class=\"sk-toggleable__label sk-toggleable__label-arrow\">preprocessing: ColumnTransformer</label><div class=\"sk-toggleable__content\"><pre>ColumnTransformer(transformers=[(&#x27;standardscaler&#x27;, StandardScaler(),\n",
       "                                 [&#x27;BMI&#x27;, &#x27;Sleep&#x27;, &#x27;SoundSleep&#x27;, &#x27;Pregnancies&#x27;]),\n",
       "                                (&#x27;onehotencoder&#x27;,\n",
       "                                 OneHotEncoder(handle_unknown=&#x27;ignore&#x27;),\n",
       "                                 [&#x27;Age&#x27;, &#x27;Gender&#x27;, &#x27;Family_Diabetes&#x27;, &#x27;highBP&#x27;,\n",
       "                                  &#x27;PhysicallyActive&#x27;, &#x27;Smoking&#x27;, &#x27;Alcohol&#x27;,\n",
       "                                  &#x27;RegularMedicine&#x27;, &#x27;JunkFood&#x27;, &#x27;Stress&#x27;,\n",
       "                                  &#x27;BPLevel&#x27;, &#x27;Pdiabetes&#x27;, &#x27;UrinationFreq&#x27;])])</pre></div></div></div><div class=\"sk-parallel\"><div class=\"sk-parallel-item\"><div class=\"sk-item\"><div class=\"sk-label-container\"><div class=\"sk-label sk-toggleable\"><input class=\"sk-toggleable__control sk-hidden--visually\" id=\"sk-estimator-id-12\" type=\"checkbox\" ><label for=\"sk-estimator-id-12\" class=\"sk-toggleable__label sk-toggleable__label-arrow\">standardscaler</label><div class=\"sk-toggleable__content\"><pre>[&#x27;BMI&#x27;, &#x27;Sleep&#x27;, &#x27;SoundSleep&#x27;, &#x27;Pregnancies&#x27;]</pre></div></div></div><div class=\"sk-serial\"><div class=\"sk-item\"><div class=\"sk-estimator sk-toggleable\"><input class=\"sk-toggleable__control sk-hidden--visually\" id=\"sk-estimator-id-13\" type=\"checkbox\" ><label for=\"sk-estimator-id-13\" class=\"sk-toggleable__label sk-toggleable__label-arrow\">StandardScaler</label><div class=\"sk-toggleable__content\"><pre>StandardScaler()</pre></div></div></div></div></div></div><div class=\"sk-parallel-item\"><div class=\"sk-item\"><div class=\"sk-label-container\"><div class=\"sk-label sk-toggleable\"><input class=\"sk-toggleable__control sk-hidden--visually\" id=\"sk-estimator-id-14\" type=\"checkbox\" ><label for=\"sk-estimator-id-14\" class=\"sk-toggleable__label sk-toggleable__label-arrow\">onehotencoder</label><div class=\"sk-toggleable__content\"><pre>[&#x27;Age&#x27;, &#x27;Gender&#x27;, &#x27;Family_Diabetes&#x27;, &#x27;highBP&#x27;, &#x27;PhysicallyActive&#x27;, &#x27;Smoking&#x27;, &#x27;Alcohol&#x27;, &#x27;RegularMedicine&#x27;, &#x27;JunkFood&#x27;, &#x27;Stress&#x27;, &#x27;BPLevel&#x27;, &#x27;Pdiabetes&#x27;, &#x27;UrinationFreq&#x27;]</pre></div></div></div><div class=\"sk-serial\"><div class=\"sk-item\"><div class=\"sk-estimator sk-toggleable\"><input class=\"sk-toggleable__control sk-hidden--visually\" id=\"sk-estimator-id-15\" type=\"checkbox\" ><label for=\"sk-estimator-id-15\" class=\"sk-toggleable__label sk-toggleable__label-arrow\">OneHotEncoder</label><div class=\"sk-toggleable__content\"><pre>OneHotEncoder(handle_unknown=&#x27;ignore&#x27;)</pre></div></div></div></div></div></div></div></div><div class=\"sk-item\"><div class=\"sk-estimator sk-toggleable\"><input class=\"sk-toggleable__control sk-hidden--visually\" id=\"sk-estimator-id-16\" type=\"checkbox\" ><label for=\"sk-estimator-id-16\" class=\"sk-toggleable__label sk-toggleable__label-arrow\">LogisticRegression</label><div class=\"sk-toggleable__content\"><pre>LogisticRegression(max_iter=1000)</pre></div></div></div></div></div></div></div></div></div></div></div></div>"
      ],
      "text/plain": [
       "GridSearchCV(cv=StratifiedKFold(n_splits=5, random_state=None, shuffle=True),\n",
       "             estimator=Pipeline(steps=[('preprocessing',\n",
       "                                        ColumnTransformer(transformers=[('standardscaler',\n",
       "                                                                         StandardScaler(),\n",
       "                                                                         ['BMI',\n",
       "                                                                          'Sleep',\n",
       "                                                                          'SoundSleep',\n",
       "                                                                          'Pregnancies']),\n",
       "                                                                        ('onehotencoder',\n",
       "                                                                         OneHotEncoder(handle_unknown='ignore'),\n",
       "                                                                         ['Age',\n",
       "                                                                          'Gender',\n",
       "                                                                          'Family_Diabetes',\n",
       "                                                                          'highBP',\n",
       "                                                                          'PhysicallyActive',\n",
       "                                                                          'Sm...\n",
       "                          'preprocessing': [ColumnTransformer(transformers=[('standardscaler',\n",
       "                                                                             StandardScaler(),\n",
       "                                                                             ['BMI',\n",
       "                                                                              'Sleep',\n",
       "                                                                              'SoundSleep',\n",
       "                                                                              'Pregnancies']),\n",
       "                                                                            ('onehotencoder',\n",
       "                                                                             OneHotEncoder(handle_unknown='ignore'),\n",
       "                                                                             ['Age',\n",
       "                                                                              'Gender',\n",
       "                                                                              'Family_Diabetes',\n",
       "                                                                              'highBP',\n",
       "                                                                              'PhysicallyActive',\n",
       "                                                                              'Smoking',\n",
       "                                                                              'Alcohol',\n",
       "                                                                              'RegularMedicine',\n",
       "                                                                              'JunkFood',\n",
       "                                                                              'Stress',\n",
       "                                                                              'BPLevel',\n",
       "                                                                              'Pdiabetes',\n",
       "                                                                              'UrinationFreq'])])]}],\n",
       "             scoring='roc_auc', verbose=1)"
      ]
     },
     "execution_count": 54,
     "metadata": {},
     "output_type": "execute_result"
    }
   ],
   "source": [
    "gs.fit(X_train, y_train)"
   ]
  },
  {
   "cell_type": "code",
   "execution_count": 55,
   "id": "8e21bd71",
   "metadata": {},
   "outputs": [
    {
     "name": "stdout",
     "output_type": "stream",
     "text": [
      "Best estimator:\n",
      "Pipeline(steps=[('preprocessing',\n",
      "                 ColumnTransformer(transformers=[('standardscaler',\n",
      "                                                  StandardScaler(),\n",
      "                                                  ['BMI', 'Sleep', 'SoundSleep',\n",
      "                                                   'Pregnancies']),\n",
      "                                                 ('onehotencoder',\n",
      "                                                  OneHotEncoder(handle_unknown='ignore'),\n",
      "                                                  ['Age', 'Gender',\n",
      "                                                   'Family_Diabetes', 'highBP',\n",
      "                                                   'PhysicallyActive',\n",
      "                                                   'Smoking', 'Alcohol',\n",
      "                                                   'RegularMedicine',\n",
      "                                                   'JunkFood', 'Stress',\n",
      "                                                   'BPLevel', 'Pdiabetes',\n",
      "                                                   'UrinationFreq'])])),\n",
      "                ('classifier',\n",
      "                 SVC(C=0.001, gamma=3, kernel='poly', probability=True))])\n"
     ]
    }
   ],
   "source": [
    "print(\"Best estimator:\\n{}\".format(gs.best_estimator_))"
   ]
  },
  {
   "cell_type": "code",
   "execution_count": 69,
   "id": "03598aaf",
   "metadata": {},
   "outputs": [
    {
     "name": "stdout",
     "output_type": "stream",
     "text": [
      "Test set score: 0.950\n"
     ]
    }
   ],
   "source": [
    "print(\"Test set score: {:.3f}\".format(gs.score(X_test, y_test)))"
   ]
  },
  {
   "cell_type": "code",
   "execution_count": 57,
   "id": "30ff1c18",
   "metadata": {},
   "outputs": [
    {
     "name": "stdout",
     "output_type": "stream",
     "text": [
      "Best parameters: {'classifier': SVC(C=0.001, gamma=3, kernel='poly', probability=True), 'classifier__C': 0.001, 'classifier__gamma': 3, 'classifier__kernel': 'poly', 'preprocessing': ColumnTransformer(transformers=[('standardscaler', StandardScaler(),\n",
      "                                 ['BMI', 'Sleep', 'SoundSleep', 'Pregnancies']),\n",
      "                                ('onehotencoder',\n",
      "                                 OneHotEncoder(handle_unknown='ignore'),\n",
      "                                 ['Age', 'Gender', 'Family_Diabetes', 'highBP',\n",
      "                                  'PhysicallyActive', 'Smoking', 'Alcohol',\n",
      "                                  'RegularMedicine', 'JunkFood', 'Stress',\n",
      "                                  'BPLevel', 'Pdiabetes', 'UrinationFreq'])])}\n"
     ]
    }
   ],
   "source": [
    "print(\"Best parameters: {}\".format(gs.best_params_))"
   ]
  },
  {
   "cell_type": "code",
   "execution_count": 70,
   "id": "edd2c0b2",
   "metadata": {},
   "outputs": [
    {
     "name": "stdout",
     "output_type": "stream",
     "text": [
      "Best cross-validation score: 0.971\n"
     ]
    }
   ],
   "source": [
    "print(\"Best cross-validation score: {:.3f}\".format(gs.best_score_))"
   ]
  },
  {
   "cell_type": "markdown",
   "id": "c68d2904",
   "metadata": {},
   "source": [
    "### Saving data\n",
    "* Save the results and present them properly"
   ]
  },
  {
   "cell_type": "code",
   "execution_count": 71,
   "id": "f035133f",
   "metadata": {},
   "outputs": [],
   "source": [
    "# convert to Dataframe\n",
    "results = pd.DataFrame(gs.cv_results_)"
   ]
  },
  {
   "cell_type": "code",
   "execution_count": 72,
   "id": "cb1e5e59",
   "metadata": {
    "scrolled": true
   },
   "outputs": [
    {
     "data": {
      "text/html": [
       "<div>\n",
       "<style scoped>\n",
       "    .dataframe tbody tr th:only-of-type {\n",
       "        vertical-align: middle;\n",
       "    }\n",
       "\n",
       "    .dataframe tbody tr th {\n",
       "        vertical-align: top;\n",
       "    }\n",
       "\n",
       "    .dataframe thead th {\n",
       "        text-align: right;\n",
       "    }\n",
       "</style>\n",
       "<table border=\"1\" class=\"dataframe\">\n",
       "  <thead>\n",
       "    <tr style=\"text-align: right;\">\n",
       "      <th></th>\n",
       "      <th>mean_fit_time</th>\n",
       "      <th>std_fit_time</th>\n",
       "      <th>mean_score_time</th>\n",
       "      <th>std_score_time</th>\n",
       "      <th>param_classifier__C</th>\n",
       "      <th>param_preprocessing</th>\n",
       "      <th>param_classifier</th>\n",
       "      <th>param_classifier__gamma</th>\n",
       "      <th>param_classifier__kernel</th>\n",
       "      <th>params</th>\n",
       "      <th>split0_test_score</th>\n",
       "      <th>split1_test_score</th>\n",
       "      <th>split2_test_score</th>\n",
       "      <th>split3_test_score</th>\n",
       "      <th>split4_test_score</th>\n",
       "      <th>mean_test_score</th>\n",
       "      <th>std_test_score</th>\n",
       "      <th>rank_test_score</th>\n",
       "    </tr>\n",
       "  </thead>\n",
       "  <tbody>\n",
       "    <tr>\n",
       "      <th>0</th>\n",
       "      <td>0.012406</td>\n",
       "      <td>0.005165</td>\n",
       "      <td>0.004675</td>\n",
       "      <td>0.001712</td>\n",
       "      <td>0.00001</td>\n",
       "      <td>ColumnTransformer(transformers=[('standardscal...</td>\n",
       "      <td>NaN</td>\n",
       "      <td>NaN</td>\n",
       "      <td>NaN</td>\n",
       "      <td>{'classifier__C': 1e-05, 'preprocessing': Colu...</td>\n",
       "      <td>0.890642</td>\n",
       "      <td>0.834718</td>\n",
       "      <td>0.938538</td>\n",
       "      <td>0.844955</td>\n",
       "      <td>0.932540</td>\n",
       "      <td>0.888278</td>\n",
       "      <td>0.042980</td>\n",
       "      <td>115</td>\n",
       "    </tr>\n",
       "    <tr>\n",
       "      <th>1</th>\n",
       "      <td>0.005361</td>\n",
       "      <td>0.001109</td>\n",
       "      <td>0.002905</td>\n",
       "      <td>0.001714</td>\n",
       "      <td>0.0001</td>\n",
       "      <td>ColumnTransformer(transformers=[('standardscal...</td>\n",
       "      <td>NaN</td>\n",
       "      <td>NaN</td>\n",
       "      <td>NaN</td>\n",
       "      <td>{'classifier__C': 0.0001, 'preprocessing': Col...</td>\n",
       "      <td>0.890642</td>\n",
       "      <td>0.834164</td>\n",
       "      <td>0.937984</td>\n",
       "      <td>0.846088</td>\n",
       "      <td>0.932540</td>\n",
       "      <td>0.888284</td>\n",
       "      <td>0.042764</td>\n",
       "      <td>114</td>\n",
       "    </tr>\n",
       "    <tr>\n",
       "      <th>2</th>\n",
       "      <td>0.005919</td>\n",
       "      <td>0.001251</td>\n",
       "      <td>0.005058</td>\n",
       "      <td>0.002718</td>\n",
       "      <td>0.001</td>\n",
       "      <td>ColumnTransformer(transformers=[('standardscal...</td>\n",
       "      <td>NaN</td>\n",
       "      <td>NaN</td>\n",
       "      <td>NaN</td>\n",
       "      <td>{'classifier__C': 0.001, 'preprocessing': Colu...</td>\n",
       "      <td>0.892857</td>\n",
       "      <td>0.841362</td>\n",
       "      <td>0.938538</td>\n",
       "      <td>0.852324</td>\n",
       "      <td>0.932540</td>\n",
       "      <td>0.891524</td>\n",
       "      <td>0.039868</td>\n",
       "      <td>108</td>\n",
       "    </tr>\n",
       "    <tr>\n",
       "      <th>3</th>\n",
       "      <td>0.009779</td>\n",
       "      <td>0.005102</td>\n",
       "      <td>0.003290</td>\n",
       "      <td>0.001956</td>\n",
       "      <td>0.01</td>\n",
       "      <td>ColumnTransformer(transformers=[('standardscal...</td>\n",
       "      <td>NaN</td>\n",
       "      <td>NaN</td>\n",
       "      <td>NaN</td>\n",
       "      <td>{'classifier__C': 0.01, 'preprocessing': Colum...</td>\n",
       "      <td>0.899502</td>\n",
       "      <td>0.858527</td>\n",
       "      <td>0.949059</td>\n",
       "      <td>0.882370</td>\n",
       "      <td>0.939342</td>\n",
       "      <td>0.905760</td>\n",
       "      <td>0.034117</td>\n",
       "      <td>107</td>\n",
       "    </tr>\n",
       "    <tr>\n",
       "      <th>4</th>\n",
       "      <td>0.007635</td>\n",
       "      <td>0.003305</td>\n",
       "      <td>0.002786</td>\n",
       "      <td>0.001084</td>\n",
       "      <td>0.1</td>\n",
       "      <td>ColumnTransformer(transformers=[('standardscal...</td>\n",
       "      <td>NaN</td>\n",
       "      <td>NaN</td>\n",
       "      <td>NaN</td>\n",
       "      <td>{'classifier__C': 0.1, 'preprocessing': Column...</td>\n",
       "      <td>0.912237</td>\n",
       "      <td>0.885659</td>\n",
       "      <td>0.959579</td>\n",
       "      <td>0.906179</td>\n",
       "      <td>0.954649</td>\n",
       "      <td>0.923661</td>\n",
       "      <td>0.028742</td>\n",
       "      <td>91</td>\n",
       "    </tr>\n",
       "    <tr>\n",
       "      <th>...</th>\n",
       "      <td>...</td>\n",
       "      <td>...</td>\n",
       "      <td>...</td>\n",
       "      <td>...</td>\n",
       "      <td>...</td>\n",
       "      <td>...</td>\n",
       "      <td>...</td>\n",
       "      <td>...</td>\n",
       "      <td>...</td>\n",
       "      <td>...</td>\n",
       "      <td>...</td>\n",
       "      <td>...</td>\n",
       "      <td>...</td>\n",
       "      <td>...</td>\n",
       "      <td>...</td>\n",
       "      <td>...</td>\n",
       "      <td>...</td>\n",
       "      <td>...</td>\n",
       "    </tr>\n",
       "    <tr>\n",
       "      <th>110</th>\n",
       "      <td>0.009574</td>\n",
       "      <td>0.000280</td>\n",
       "      <td>0.002117</td>\n",
       "      <td>0.000023</td>\n",
       "      <td>100</td>\n",
       "      <td>ColumnTransformer(transformers=[('standardscal...</td>\n",
       "      <td>SVC(C=0.001, gamma=3, kernel='poly', probabili...</td>\n",
       "      <td>3</td>\n",
       "      <td>poly</td>\n",
       "      <td>{'classifier': SVC(C=0.001, gamma=3, kernel='p...</td>\n",
       "      <td>0.982004</td>\n",
       "      <td>0.941584</td>\n",
       "      <td>0.983942</td>\n",
       "      <td>0.964002</td>\n",
       "      <td>0.947279</td>\n",
       "      <td>0.963762</td>\n",
       "      <td>0.017342</td>\n",
       "      <td>46</td>\n",
       "    </tr>\n",
       "    <tr>\n",
       "      <th>111</th>\n",
       "      <td>0.016455</td>\n",
       "      <td>0.000189</td>\n",
       "      <td>0.003009</td>\n",
       "      <td>0.000022</td>\n",
       "      <td>100</td>\n",
       "      <td>ColumnTransformer(transformers=[('standardscal...</td>\n",
       "      <td>SVC(C=0.001, gamma=3, kernel='poly', probabili...</td>\n",
       "      <td>3</td>\n",
       "      <td>rbf</td>\n",
       "      <td>{'classifier': SVC(C=0.001, gamma=3, kernel='p...</td>\n",
       "      <td>0.975360</td>\n",
       "      <td>0.944906</td>\n",
       "      <td>0.997785</td>\n",
       "      <td>0.963435</td>\n",
       "      <td>0.931406</td>\n",
       "      <td>0.962578</td>\n",
       "      <td>0.023185</td>\n",
       "      <td>58</td>\n",
       "    </tr>\n",
       "    <tr>\n",
       "      <th>112</th>\n",
       "      <td>0.495290</td>\n",
       "      <td>0.172155</td>\n",
       "      <td>0.002397</td>\n",
       "      <td>0.000211</td>\n",
       "      <td>100</td>\n",
       "      <td>ColumnTransformer(transformers=[('standardscal...</td>\n",
       "      <td>SVC(C=0.001, gamma=3, kernel='poly', probabili...</td>\n",
       "      <td>4</td>\n",
       "      <td>linear</td>\n",
       "      <td>{'classifier': SVC(C=0.001, gamma=3, kernel='p...</td>\n",
       "      <td>0.902270</td>\n",
       "      <td>0.915559</td>\n",
       "      <td>0.958472</td>\n",
       "      <td>0.885771</td>\n",
       "      <td>0.939342</td>\n",
       "      <td>0.920283</td>\n",
       "      <td>0.025921</td>\n",
       "      <td>97</td>\n",
       "    </tr>\n",
       "    <tr>\n",
       "      <th>113</th>\n",
       "      <td>0.009653</td>\n",
       "      <td>0.000419</td>\n",
       "      <td>0.002135</td>\n",
       "      <td>0.000024</td>\n",
       "      <td>100</td>\n",
       "      <td>ColumnTransformer(transformers=[('standardscal...</td>\n",
       "      <td>SVC(C=0.001, gamma=3, kernel='poly', probabili...</td>\n",
       "      <td>4</td>\n",
       "      <td>poly</td>\n",
       "      <td>{'classifier': SVC(C=0.001, gamma=3, kernel='p...</td>\n",
       "      <td>0.982004</td>\n",
       "      <td>0.943245</td>\n",
       "      <td>0.994463</td>\n",
       "      <td>0.964002</td>\n",
       "      <td>0.947846</td>\n",
       "      <td>0.966312</td>\n",
       "      <td>0.019581</td>\n",
       "      <td>19</td>\n",
       "    </tr>\n",
       "    <tr>\n",
       "      <th>114</th>\n",
       "      <td>0.016954</td>\n",
       "      <td>0.000256</td>\n",
       "      <td>0.003054</td>\n",
       "      <td>0.000034</td>\n",
       "      <td>100</td>\n",
       "      <td>ColumnTransformer(transformers=[('standardscal...</td>\n",
       "      <td>SVC(C=0.001, gamma=3, kernel='poly', probabili...</td>\n",
       "      <td>4</td>\n",
       "      <td>rbf</td>\n",
       "      <td>{'classifier': SVC(C=0.001, gamma=3, kernel='p...</td>\n",
       "      <td>0.985880</td>\n",
       "      <td>0.946567</td>\n",
       "      <td>0.986711</td>\n",
       "      <td>0.958900</td>\n",
       "      <td>0.928005</td>\n",
       "      <td>0.961213</td>\n",
       "      <td>0.022721</td>\n",
       "      <td>67</td>\n",
       "    </tr>\n",
       "  </tbody>\n",
       "</table>\n",
       "<p>115 rows × 18 columns</p>\n",
       "</div>"
      ],
      "text/plain": [
       "     mean_fit_time  std_fit_time  mean_score_time  std_score_time  \\\n",
       "0         0.012406      0.005165         0.004675        0.001712   \n",
       "1         0.005361      0.001109         0.002905        0.001714   \n",
       "2         0.005919      0.001251         0.005058        0.002718   \n",
       "3         0.009779      0.005102         0.003290        0.001956   \n",
       "4         0.007635      0.003305         0.002786        0.001084   \n",
       "..             ...           ...              ...             ...   \n",
       "110       0.009574      0.000280         0.002117        0.000023   \n",
       "111       0.016455      0.000189         0.003009        0.000022   \n",
       "112       0.495290      0.172155         0.002397        0.000211   \n",
       "113       0.009653      0.000419         0.002135        0.000024   \n",
       "114       0.016954      0.000256         0.003054        0.000034   \n",
       "\n",
       "    param_classifier__C                                param_preprocessing  \\\n",
       "0               0.00001  ColumnTransformer(transformers=[('standardscal...   \n",
       "1                0.0001  ColumnTransformer(transformers=[('standardscal...   \n",
       "2                 0.001  ColumnTransformer(transformers=[('standardscal...   \n",
       "3                  0.01  ColumnTransformer(transformers=[('standardscal...   \n",
       "4                   0.1  ColumnTransformer(transformers=[('standardscal...   \n",
       "..                  ...                                                ...   \n",
       "110                 100  ColumnTransformer(transformers=[('standardscal...   \n",
       "111                 100  ColumnTransformer(transformers=[('standardscal...   \n",
       "112                 100  ColumnTransformer(transformers=[('standardscal...   \n",
       "113                 100  ColumnTransformer(transformers=[('standardscal...   \n",
       "114                 100  ColumnTransformer(transformers=[('standardscal...   \n",
       "\n",
       "                                      param_classifier  \\\n",
       "0                                                  NaN   \n",
       "1                                                  NaN   \n",
       "2                                                  NaN   \n",
       "3                                                  NaN   \n",
       "4                                                  NaN   \n",
       "..                                                 ...   \n",
       "110  SVC(C=0.001, gamma=3, kernel='poly', probabili...   \n",
       "111  SVC(C=0.001, gamma=3, kernel='poly', probabili...   \n",
       "112  SVC(C=0.001, gamma=3, kernel='poly', probabili...   \n",
       "113  SVC(C=0.001, gamma=3, kernel='poly', probabili...   \n",
       "114  SVC(C=0.001, gamma=3, kernel='poly', probabili...   \n",
       "\n",
       "    param_classifier__gamma param_classifier__kernel  \\\n",
       "0                       NaN                      NaN   \n",
       "1                       NaN                      NaN   \n",
       "2                       NaN                      NaN   \n",
       "3                       NaN                      NaN   \n",
       "4                       NaN                      NaN   \n",
       "..                      ...                      ...   \n",
       "110                       3                     poly   \n",
       "111                       3                      rbf   \n",
       "112                       4                   linear   \n",
       "113                       4                     poly   \n",
       "114                       4                      rbf   \n",
       "\n",
       "                                                params  split0_test_score  \\\n",
       "0    {'classifier__C': 1e-05, 'preprocessing': Colu...           0.890642   \n",
       "1    {'classifier__C': 0.0001, 'preprocessing': Col...           0.890642   \n",
       "2    {'classifier__C': 0.001, 'preprocessing': Colu...           0.892857   \n",
       "3    {'classifier__C': 0.01, 'preprocessing': Colum...           0.899502   \n",
       "4    {'classifier__C': 0.1, 'preprocessing': Column...           0.912237   \n",
       "..                                                 ...                ...   \n",
       "110  {'classifier': SVC(C=0.001, gamma=3, kernel='p...           0.982004   \n",
       "111  {'classifier': SVC(C=0.001, gamma=3, kernel='p...           0.975360   \n",
       "112  {'classifier': SVC(C=0.001, gamma=3, kernel='p...           0.902270   \n",
       "113  {'classifier': SVC(C=0.001, gamma=3, kernel='p...           0.982004   \n",
       "114  {'classifier': SVC(C=0.001, gamma=3, kernel='p...           0.985880   \n",
       "\n",
       "     split1_test_score  split2_test_score  split3_test_score  \\\n",
       "0             0.834718           0.938538           0.844955   \n",
       "1             0.834164           0.937984           0.846088   \n",
       "2             0.841362           0.938538           0.852324   \n",
       "3             0.858527           0.949059           0.882370   \n",
       "4             0.885659           0.959579           0.906179   \n",
       "..                 ...                ...                ...   \n",
       "110           0.941584           0.983942           0.964002   \n",
       "111           0.944906           0.997785           0.963435   \n",
       "112           0.915559           0.958472           0.885771   \n",
       "113           0.943245           0.994463           0.964002   \n",
       "114           0.946567           0.986711           0.958900   \n",
       "\n",
       "     split4_test_score  mean_test_score  std_test_score  rank_test_score  \n",
       "0             0.932540         0.888278        0.042980              115  \n",
       "1             0.932540         0.888284        0.042764              114  \n",
       "2             0.932540         0.891524        0.039868              108  \n",
       "3             0.939342         0.905760        0.034117              107  \n",
       "4             0.954649         0.923661        0.028742               91  \n",
       "..                 ...              ...             ...              ...  \n",
       "110           0.947279         0.963762        0.017342               46  \n",
       "111           0.931406         0.962578        0.023185               58  \n",
       "112           0.939342         0.920283        0.025921               97  \n",
       "113           0.947846         0.966312        0.019581               19  \n",
       "114           0.928005         0.961213        0.022721               67  \n",
       "\n",
       "[115 rows x 18 columns]"
      ]
     },
     "execution_count": 72,
     "metadata": {},
     "output_type": "execute_result"
    }
   ],
   "source": [
    "results"
   ]
  },
  {
   "cell_type": "code",
   "execution_count": 81,
   "id": "7dbb81c3",
   "metadata": {
    "scrolled": false
   },
   "outputs": [
    {
     "data": {
      "text/html": [
       "<div>\n",
       "<style scoped>\n",
       "    .dataframe tbody tr th:only-of-type {\n",
       "        vertical-align: middle;\n",
       "    }\n",
       "\n",
       "    .dataframe tbody tr th {\n",
       "        vertical-align: top;\n",
       "    }\n",
       "\n",
       "    .dataframe thead th {\n",
       "        text-align: right;\n",
       "    }\n",
       "</style>\n",
       "<table border=\"1\" class=\"dataframe\">\n",
       "  <thead>\n",
       "    <tr style=\"text-align: right;\">\n",
       "      <th></th>\n",
       "      <th>C</th>\n",
       "      <th>gamma</th>\n",
       "      <th>kernel</th>\n",
       "      <th>mean_test_score</th>\n",
       "    </tr>\n",
       "  </thead>\n",
       "  <tbody>\n",
       "    <tr>\n",
       "      <th>20</th>\n",
       "      <td>0.001</td>\n",
       "      <td>3</td>\n",
       "      <td>poly</td>\n",
       "      <td>0.970705</td>\n",
       "    </tr>\n",
       "    <tr>\n",
       "      <th>72</th>\n",
       "      <td>5</td>\n",
       "      <td>0.5</td>\n",
       "      <td>rbf</td>\n",
       "      <td>0.969935</td>\n",
       "    </tr>\n",
       "    <tr>\n",
       "      <th>57</th>\n",
       "      <td>1</td>\n",
       "      <td>0.5</td>\n",
       "      <td>rbf</td>\n",
       "      <td>0.969073</td>\n",
       "    </tr>\n",
       "    <tr>\n",
       "      <th>14</th>\n",
       "      <td>0.001</td>\n",
       "      <td>1</td>\n",
       "      <td>poly</td>\n",
       "      <td>0.968174</td>\n",
       "    </tr>\n",
       "    <tr>\n",
       "      <th>26</th>\n",
       "      <td>0.01</td>\n",
       "      <td>0.5</td>\n",
       "      <td>poly</td>\n",
       "      <td>0.968150</td>\n",
       "    </tr>\n",
       "    <tr>\n",
       "      <th>...</th>\n",
       "      <td>...</td>\n",
       "      <td>...</td>\n",
       "      <td>...</td>\n",
       "      <td>...</td>\n",
       "    </tr>\n",
       "    <tr>\n",
       "      <th>16</th>\n",
       "      <td>0.001</td>\n",
       "      <td>2</td>\n",
       "      <td>linear</td>\n",
       "      <td>0.888395</td>\n",
       "    </tr>\n",
       "    <tr>\n",
       "      <th>19</th>\n",
       "      <td>0.001</td>\n",
       "      <td>3</td>\n",
       "      <td>linear</td>\n",
       "      <td>0.888395</td>\n",
       "    </tr>\n",
       "    <tr>\n",
       "      <th>22</th>\n",
       "      <td>0.001</td>\n",
       "      <td>4</td>\n",
       "      <td>linear</td>\n",
       "      <td>0.888395</td>\n",
       "    </tr>\n",
       "    <tr>\n",
       "      <th>1</th>\n",
       "      <td>0.0001</td>\n",
       "      <td>NaN</td>\n",
       "      <td>NaN</td>\n",
       "      <td>0.888284</td>\n",
       "    </tr>\n",
       "    <tr>\n",
       "      <th>0</th>\n",
       "      <td>0.00001</td>\n",
       "      <td>NaN</td>\n",
       "      <td>NaN</td>\n",
       "      <td>0.888278</td>\n",
       "    </tr>\n",
       "  </tbody>\n",
       "</table>\n",
       "<p>115 rows × 4 columns</p>\n",
       "</div>"
      ],
      "text/plain": [
       "          C gamma  kernel  mean_test_score\n",
       "20    0.001     3    poly         0.970705\n",
       "72        5   0.5     rbf         0.969935\n",
       "57        1   0.5     rbf         0.969073\n",
       "14    0.001     1    poly         0.968174\n",
       "26     0.01   0.5    poly         0.968150\n",
       "..      ...   ...     ...              ...\n",
       "16    0.001     2  linear         0.888395\n",
       "19    0.001     3  linear         0.888395\n",
       "22    0.001     4  linear         0.888395\n",
       "1    0.0001   NaN     NaN         0.888284\n",
       "0   0.00001   NaN     NaN         0.888278\n",
       "\n",
       "[115 rows x 4 columns]"
      ]
     },
     "execution_count": 81,
     "metadata": {},
     "output_type": "execute_result"
    }
   ],
   "source": [
    "(results.loc[:, ['param_classifier__C','param_classifier__gamma',\n",
    "                 'param_classifier__kernel',\n",
    "                 'mean_test_score']]\n",
    " .rename(columns = {'param_classifier__kernel': 'kernel',\n",
    "                    'param_classifier__C': 'C',\n",
    "                    'param_classifier__gamma':'gamma'})\n",
    " .sort_values('mean_test_score', ascending = False))"
   ]
  },
  {
   "cell_type": "markdown",
   "id": "363eec4c",
   "metadata": {},
   "source": [
    "### Conduct an F1 score test\n",
    "* To tell if the model predicted the data realistacly, we perform an F1-score"
   ]
  },
  {
   "cell_type": "code",
   "execution_count": 75,
   "id": "706b0fe3",
   "metadata": {},
   "outputs": [
    {
     "data": {
      "text/html": [
       "<div>\n",
       "<style scoped>\n",
       "    .dataframe tbody tr th:only-of-type {\n",
       "        vertical-align: middle;\n",
       "    }\n",
       "\n",
       "    .dataframe tbody tr th {\n",
       "        vertical-align: top;\n",
       "    }\n",
       "\n",
       "    .dataframe thead th {\n",
       "        text-align: right;\n",
       "    }\n",
       "</style>\n",
       "<table border=\"1\" class=\"dataframe\">\n",
       "  <thead>\n",
       "    <tr style=\"text-align: right;\">\n",
       "      <th>Truth</th>\n",
       "      <th>no</th>\n",
       "      <th>yes</th>\n",
       "    </tr>\n",
       "    <tr>\n",
       "      <th>Predicted</th>\n",
       "      <th></th>\n",
       "      <th></th>\n",
       "    </tr>\n",
       "  </thead>\n",
       "  <tbody>\n",
       "    <tr>\n",
       "      <th>no</th>\n",
       "      <td>48</td>\n",
       "      <td>5</td>\n",
       "    </tr>\n",
       "    <tr>\n",
       "      <th>yes</th>\n",
       "      <td>5</td>\n",
       "      <td>48</td>\n",
       "    </tr>\n",
       "  </tbody>\n",
       "</table>\n",
       "</div>"
      ],
      "text/plain": [
       "Truth      no  yes\n",
       "Predicted         \n",
       "no         48    5\n",
       "yes         5   48"
      ]
     },
     "execution_count": 75,
     "metadata": {},
     "output_type": "execute_result"
    }
   ],
   "source": [
    "# Get the confusion table\n",
    "from ISLP import confusion_table\n",
    "pred = gs.predict(X_test)\n",
    "confusion_table(pred,y_test)"
   ]
  },
  {
   "cell_type": "code",
   "execution_count": 76,
   "id": "b8a922db",
   "metadata": {},
   "outputs": [
    {
     "name": "stdout",
     "output_type": "stream",
     "text": [
      "The F1 score is: 0.9056603773584906\n"
     ]
    }
   ],
   "source": [
    "# Calculate F1\n",
    "perc = (48/(5+48))\n",
    "recall = (48/(48+5))\n",
    "\n",
    "F1 = 2*(perc*recall)/(perc+recall)\n",
    "print(f\"The F1 score is: {F1}\")"
   ]
  },
  {
   "cell_type": "markdown",
   "id": "ab9e49de",
   "metadata": {},
   "source": [
    "#### A quick visualization "
   ]
  },
  {
   "cell_type": "code",
   "execution_count": 66,
   "id": "8fc1b400",
   "metadata": {
    "scrolled": true
   },
   "outputs": [],
   "source": [
    "from sklearn.metrics import roc_curve\n",
    "\n",
    "y_prob = gs.predict_proba(X_test)[:,1]\n",
    "y_test_num = y_test.map({\"yes\":1,\"no\":0})\n",
    "fpr, tpr, thresholds = roc_curve(y_test_num, y_prob)"
   ]
  },
  {
   "cell_type": "code",
   "execution_count": 67,
   "id": "0ae3969c",
   "metadata": {},
   "outputs": [
    {
     "data": {
      "image/png": "[encoded data removed]",
      "text/plain": [
       "<Figure size 800x600 with 1 Axes>"
      ]
     },
     "metadata": {},
     "output_type": "display_data"
    }
   ],
   "source": [
    "import matplotlib.pyplot as plt\n",
    "plt.figure(figsize=(8, 6))\n",
    "plt.plot(fpr, tpr, color='green')\n",
    "plt.xlabel('fpr')\n",
    "plt.ylabel('tpr')\n",
    "plt.title('True Positive Rate vs. False Positive Rate')\n",
    "plt.show()"
   ]
  },
  {
   "cell_type": "markdown",
   "id": "7d0b209f",
   "metadata": {},
   "source": [
    "### Answer the second question, what are the most important features?"
   ]
  },
  {
   "cell_type": "code",
   "execution_count": 59,
   "id": "781e2bd3",
   "metadata": {
    "scrolled": true
   },
   "outputs": [
    {
     "name": "stdout",
     "output_type": "stream",
     "text": [
      "   RegularMedicine   0.063 +/- 0.018\n",
      "   Age        0.060 +/- 0.018\n",
      "   BMI        0.025 +/- 0.011\n",
      "   SoundSleep   0.025 +/- 0.012\n",
      "   BPLevel    0.018 +/- 0.008\n"
     ]
    }
   ],
   "source": [
    "from sklearn.inspection import permutation_importance\n",
    "\n",
    "importance = permutation_importance(gs, X_test, y_test, n_repeats = 30, random_state = 7)\n",
    "for i in importance.importances_mean.argsort()[::-1]:\n",
    "    if importance.importances_mean[i] - 2 * importance.importances_std[i] > 0:\n",
    "        print(f\"   {features.columns[i]:<8}\"\n",
    "              f\"   {importance.importances_mean[i]:.3f}\"\n",
    "              f\" +/- {importance.importances_std[i]:.3f}\")"
   ]
  },
  {
   "cell_type": "code",
   "execution_count": 80,
   "id": "29a07faa",
   "metadata": {},
   "outputs": [
    {
     "data": {
      "text/plain": [
       "'Age'"
      ]
     },
     "execution_count": 80,
     "metadata": {},
     "output_type": "execute_result"
    }
   ],
   "source": [
    "features.columns[2]"
   ]
  },
  {
   "cell_type": "code",
   "execution_count": null,
   "id": "c5aa72d6",
   "metadata": {},
   "outputs": [],
   "source": []
  }
 ],
 "metadata": {
  "kernelspec": {
   "display_name": "Python 3 (ipykernel)",
   "language": "python",
   "name": "python3"
  },
  "language_info": {
   "codemirror_mode": {
    "name": "ipython",
    "version": 3
   },
   "file_extension": ".py",
   "mimetype": "text/x-python",
   "name": "python",
   "nbconvert_exporter": "python",
   "pygments_lexer": "ipython3",
   "version": "3.10.13"
  }
 },
 "nbformat": 4,
 "nbformat_minor": 5
}
